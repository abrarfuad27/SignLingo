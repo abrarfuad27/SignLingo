{
  "cells": [
    {
      "cell_type": "code",
      "execution_count": 1,
      "id": "dee74b6f",
      "metadata": {
        "_cell_guid": "b1076dfc-b9ad-4769-8c92-a6c4dae69d19",
        "_uuid": "8f2839f25d086af736a60e9eeb907d3b93b6e0e5",
        "execution": {
          "iopub.execute_input": "2023-11-18T01:25:39.788054Z",
          "iopub.status.busy": "2023-11-18T01:25:39.787659Z",
          "iopub.status.idle": "2023-11-18T01:25:40.538687Z",
          "shell.execute_reply": "2023-11-18T01:25:40.537731Z"
        },
        "papermill": {
          "duration": 0.766235,
          "end_time": "2023-11-18T01:25:40.541055",
          "exception": false,
          "start_time": "2023-11-18T01:25:39.774820",
          "status": "completed"
        },
        "tags": [],
        "id": "dee74b6f"
      },
      "outputs": [],
      "source": [
        "# This Python 3 environment comes with many helpful analytics libraries installed\n",
        "# It is defined by the kaggle/python Docker image: https://github.com/kaggle/docker-python\n",
        "# For example, here's several helpful packages to load\n",
        "\n",
        "import numpy as np # linear algebra\n",
        "import pandas as pd # data processing, CSV file I/O (e.g. pd.read_csv)\n",
        "\n",
        "# Input data files are available in the read-only \"../input/\" directory\n",
        "# For example, running this (by clicking run or pressing Shift+Enter) will list all files under the input directory\n",
        "\n",
        "import os\n",
        "for dirname, _, filenames in os.walk('/kaggle/input'):\n",
        "    for filename in filenames:\n",
        "        print(os.path.join(dirname, filename))\n",
        "\n",
        "# You can write up to 20GB to the current directory (/kaggle/working/) that gets preserved as output when you create a version using \"Save & Run All\"\n",
        "# You can also write temporary files to /kaggle/temp/, but they won't be saved outside of the current session"
      ]
    },
    {
      "cell_type": "markdown",
      "id": "8ae28614",
      "metadata": {
        "papermill": {
          "duration": 0.01062,
          "end_time": "2023-11-18T01:25:40.562887",
          "exception": false,
          "start_time": "2023-11-18T01:25:40.552267",
          "status": "completed"
        },
        "tags": [],
        "id": "8ae28614"
      },
      "source": [
        "# Importing libraries"
      ]
    },
    {
      "cell_type": "code",
      "execution_count": 2,
      "id": "a5c3913d",
      "metadata": {
        "execution": {
          "iopub.execute_input": "2023-11-18T01:25:40.586339Z",
          "iopub.status.busy": "2023-11-18T01:25:40.585862Z",
          "iopub.status.idle": "2023-11-18T01:25:49.757645Z",
          "shell.execute_reply": "2023-11-18T01:25:49.756798Z"
        },
        "papermill": {
          "duration": 9.186028,
          "end_time": "2023-11-18T01:25:49.759910",
          "exception": false,
          "start_time": "2023-11-18T01:25:40.573882",
          "status": "completed"
        },
        "tags": [],
        "id": "a5c3913d"
      },
      "outputs": [],
      "source": [
        "import numpy as np\n",
        "import pandas as pd\n",
        "\n",
        "from tensorflow.keras import layers\n",
        "from tensorflow.keras import models\n",
        "from tensorflow.keras.utils import to_categorical\n",
        "from sklearn.model_selection import train_test_split\n",
        "from tensorflow.keras.callbacks import EarlyStopping\n",
        "from keras.optimizers import RMSprop,Adam\n",
        "import tensorflow as tf\n",
        "\n"
      ]
    },
    {
      "cell_type": "code",
      "source": [
        "from google.colab import drive\n",
        "drive.mount('/content/drive')"
      ],
      "metadata": {
        "colab": {
          "base_uri": "https://localhost:8080/"
        },
        "id": "9bkq1rYKtr9r",
        "outputId": "528b4345-5526-417e-d015-25310eff8614"
      },
      "id": "9bkq1rYKtr9r",
      "execution_count": 4,
      "outputs": [
        {
          "output_type": "stream",
          "name": "stdout",
          "text": [
            "Mounted at /content/drive\n"
          ]
        }
      ]
    },
    {
      "cell_type": "code",
      "source": [
        "!unzip '/content/drive/MyDrive/archive.zip'"
      ],
      "metadata": {
        "colab": {
          "base_uri": "https://localhost:8080/"
        },
        "id": "SCZV-fsvt7UC",
        "outputId": "a763c5b9-a37f-4343-b206-20152f65e082"
      },
      "id": "SCZV-fsvt7UC",
      "execution_count": 5,
      "outputs": [
        {
          "output_type": "stream",
          "name": "stdout",
          "text": [
            "Archive:  /content/drive/MyDrive/archive.zip\n",
            "  inflating: amer_sign2.png          \n",
            "  inflating: amer_sign3.png          \n",
            "  inflating: american_sign_language.PNG  \n",
            "  inflating: sign_mnist_test.csv     \n",
            "  inflating: sign_mnist_test/sign_mnist_test.csv  \n",
            "  inflating: sign_mnist_train.csv    \n",
            "  inflating: sign_mnist_train/sign_mnist_train.csv  \n"
          ]
        }
      ]
    },
    {
      "cell_type": "markdown",
      "id": "f25dbec4",
      "metadata": {
        "papermill": {
          "duration": 0.010593,
          "end_time": "2023-11-18T01:25:49.781739",
          "exception": false,
          "start_time": "2023-11-18T01:25:49.771146",
          "status": "completed"
        },
        "tags": [],
        "id": "f25dbec4"
      },
      "source": [
        "# Exploring the data"
      ]
    },
    {
      "cell_type": "code",
      "execution_count": 6,
      "id": "487dce9f",
      "metadata": {
        "execution": {
          "iopub.execute_input": "2023-11-18T01:25:49.804945Z",
          "iopub.status.busy": "2023-11-18T01:25:49.804339Z",
          "iopub.status.idle": "2023-11-18T01:25:53.439974Z",
          "shell.execute_reply": "2023-11-18T01:25:53.438626Z"
        },
        "papermill": {
          "duration": 3.649997,
          "end_time": "2023-11-18T01:25:53.442494",
          "exception": false,
          "start_time": "2023-11-18T01:25:49.792497",
          "status": "completed"
        },
        "tags": [],
        "id": "487dce9f"
      },
      "outputs": [],
      "source": [
        "data=pd.read_csv('/content/sign_mnist_train/sign_mnist_train.csv')"
      ]
    },
    {
      "cell_type": "code",
      "execution_count": 7,
      "id": "655a188e",
      "metadata": {
        "execution": {
          "iopub.execute_input": "2023-11-18T01:25:53.474697Z",
          "iopub.status.busy": "2023-11-18T01:25:53.474113Z",
          "iopub.status.idle": "2023-11-18T01:25:53.485155Z",
          "shell.execute_reply": "2023-11-18T01:25:53.484104Z"
        },
        "papermill": {
          "duration": 0.029363,
          "end_time": "2023-11-18T01:25:53.487769",
          "exception": false,
          "start_time": "2023-11-18T01:25:53.458406",
          "status": "completed"
        },
        "tags": [],
        "colab": {
          "base_uri": "https://localhost:8080/"
        },
        "id": "655a188e",
        "outputId": "db2287c5-ffae-4cf4-a46c-ec7e38a172dd"
      },
      "outputs": [
        {
          "output_type": "execute_result",
          "data": {
            "text/plain": [
              "(27455, 785)"
            ]
          },
          "metadata": {},
          "execution_count": 7
        }
      ],
      "source": [
        "#shape of the data\n",
        "data.shape"
      ]
    },
    {
      "cell_type": "code",
      "execution_count": 8,
      "id": "7d4300b5",
      "metadata": {
        "execution": {
          "iopub.execute_input": "2023-11-18T01:25:53.511514Z",
          "iopub.status.busy": "2023-11-18T01:25:53.511251Z",
          "iopub.status.idle": "2023-11-18T01:25:53.533975Z",
          "shell.execute_reply": "2023-11-18T01:25:53.533087Z"
        },
        "papermill": {
          "duration": 0.036752,
          "end_time": "2023-11-18T01:25:53.535979",
          "exception": false,
          "start_time": "2023-11-18T01:25:53.499227",
          "status": "completed"
        },
        "tags": [],
        "colab": {
          "base_uri": "https://localhost:8080/",
          "height": 236
        },
        "id": "7d4300b5",
        "outputId": "f9a176e8-c2f5-4f2a-902e-091f25793d6f"
      },
      "outputs": [
        {
          "output_type": "execute_result",
          "data": {
            "text/plain": [
              "   label  pixel1  pixel2  pixel3  pixel4  pixel5  pixel6  pixel7  pixel8  \\\n",
              "0      3     107     118     127     134     139     143     146     150   \n",
              "1      6     155     157     156     156     156     157     156     158   \n",
              "2      2     187     188     188     187     187     186     187     188   \n",
              "3      2     211     211     212     212     211     210     211     210   \n",
              "4     13     164     167     170     172     176     179     180     184   \n",
              "\n",
              "   pixel9  ...  pixel775  pixel776  pixel777  pixel778  pixel779  pixel780  \\\n",
              "0     153  ...       207       207       207       207       206       206   \n",
              "1     158  ...        69       149       128        87        94       163   \n",
              "2     187  ...       202       201       200       199       198       199   \n",
              "3     210  ...       235       234       233       231       230       226   \n",
              "4     185  ...        92       105       105       108       133       163   \n",
              "\n",
              "   pixel781  pixel782  pixel783  pixel784  \n",
              "0       206       204       203       202  \n",
              "1       175       103       135       149  \n",
              "2       198       195       194       195  \n",
              "3       225       222       229       163  \n",
              "4       157       163       164       179  \n",
              "\n",
              "[5 rows x 785 columns]"
            ],
            "text/html": [
              "\n",
              "  <div id=\"df-a8a609f6-2181-4104-92f4-7d01a313e7d5\" class=\"colab-df-container\">\n",
              "    <div>\n",
              "<style scoped>\n",
              "    .dataframe tbody tr th:only-of-type {\n",
              "        vertical-align: middle;\n",
              "    }\n",
              "\n",
              "    .dataframe tbody tr th {\n",
              "        vertical-align: top;\n",
              "    }\n",
              "\n",
              "    .dataframe thead th {\n",
              "        text-align: right;\n",
              "    }\n",
              "</style>\n",
              "<table border=\"1\" class=\"dataframe\">\n",
              "  <thead>\n",
              "    <tr style=\"text-align: right;\">\n",
              "      <th></th>\n",
              "      <th>label</th>\n",
              "      <th>pixel1</th>\n",
              "      <th>pixel2</th>\n",
              "      <th>pixel3</th>\n",
              "      <th>pixel4</th>\n",
              "      <th>pixel5</th>\n",
              "      <th>pixel6</th>\n",
              "      <th>pixel7</th>\n",
              "      <th>pixel8</th>\n",
              "      <th>pixel9</th>\n",
              "      <th>...</th>\n",
              "      <th>pixel775</th>\n",
              "      <th>pixel776</th>\n",
              "      <th>pixel777</th>\n",
              "      <th>pixel778</th>\n",
              "      <th>pixel779</th>\n",
              "      <th>pixel780</th>\n",
              "      <th>pixel781</th>\n",
              "      <th>pixel782</th>\n",
              "      <th>pixel783</th>\n",
              "      <th>pixel784</th>\n",
              "    </tr>\n",
              "  </thead>\n",
              "  <tbody>\n",
              "    <tr>\n",
              "      <th>0</th>\n",
              "      <td>3</td>\n",
              "      <td>107</td>\n",
              "      <td>118</td>\n",
              "      <td>127</td>\n",
              "      <td>134</td>\n",
              "      <td>139</td>\n",
              "      <td>143</td>\n",
              "      <td>146</td>\n",
              "      <td>150</td>\n",
              "      <td>153</td>\n",
              "      <td>...</td>\n",
              "      <td>207</td>\n",
              "      <td>207</td>\n",
              "      <td>207</td>\n",
              "      <td>207</td>\n",
              "      <td>206</td>\n",
              "      <td>206</td>\n",
              "      <td>206</td>\n",
              "      <td>204</td>\n",
              "      <td>203</td>\n",
              "      <td>202</td>\n",
              "    </tr>\n",
              "    <tr>\n",
              "      <th>1</th>\n",
              "      <td>6</td>\n",
              "      <td>155</td>\n",
              "      <td>157</td>\n",
              "      <td>156</td>\n",
              "      <td>156</td>\n",
              "      <td>156</td>\n",
              "      <td>157</td>\n",
              "      <td>156</td>\n",
              "      <td>158</td>\n",
              "      <td>158</td>\n",
              "      <td>...</td>\n",
              "      <td>69</td>\n",
              "      <td>149</td>\n",
              "      <td>128</td>\n",
              "      <td>87</td>\n",
              "      <td>94</td>\n",
              "      <td>163</td>\n",
              "      <td>175</td>\n",
              "      <td>103</td>\n",
              "      <td>135</td>\n",
              "      <td>149</td>\n",
              "    </tr>\n",
              "    <tr>\n",
              "      <th>2</th>\n",
              "      <td>2</td>\n",
              "      <td>187</td>\n",
              "      <td>188</td>\n",
              "      <td>188</td>\n",
              "      <td>187</td>\n",
              "      <td>187</td>\n",
              "      <td>186</td>\n",
              "      <td>187</td>\n",
              "      <td>188</td>\n",
              "      <td>187</td>\n",
              "      <td>...</td>\n",
              "      <td>202</td>\n",
              "      <td>201</td>\n",
              "      <td>200</td>\n",
              "      <td>199</td>\n",
              "      <td>198</td>\n",
              "      <td>199</td>\n",
              "      <td>198</td>\n",
              "      <td>195</td>\n",
              "      <td>194</td>\n",
              "      <td>195</td>\n",
              "    </tr>\n",
              "    <tr>\n",
              "      <th>3</th>\n",
              "      <td>2</td>\n",
              "      <td>211</td>\n",
              "      <td>211</td>\n",
              "      <td>212</td>\n",
              "      <td>212</td>\n",
              "      <td>211</td>\n",
              "      <td>210</td>\n",
              "      <td>211</td>\n",
              "      <td>210</td>\n",
              "      <td>210</td>\n",
              "      <td>...</td>\n",
              "      <td>235</td>\n",
              "      <td>234</td>\n",
              "      <td>233</td>\n",
              "      <td>231</td>\n",
              "      <td>230</td>\n",
              "      <td>226</td>\n",
              "      <td>225</td>\n",
              "      <td>222</td>\n",
              "      <td>229</td>\n",
              "      <td>163</td>\n",
              "    </tr>\n",
              "    <tr>\n",
              "      <th>4</th>\n",
              "      <td>13</td>\n",
              "      <td>164</td>\n",
              "      <td>167</td>\n",
              "      <td>170</td>\n",
              "      <td>172</td>\n",
              "      <td>176</td>\n",
              "      <td>179</td>\n",
              "      <td>180</td>\n",
              "      <td>184</td>\n",
              "      <td>185</td>\n",
              "      <td>...</td>\n",
              "      <td>92</td>\n",
              "      <td>105</td>\n",
              "      <td>105</td>\n",
              "      <td>108</td>\n",
              "      <td>133</td>\n",
              "      <td>163</td>\n",
              "      <td>157</td>\n",
              "      <td>163</td>\n",
              "      <td>164</td>\n",
              "      <td>179</td>\n",
              "    </tr>\n",
              "  </tbody>\n",
              "</table>\n",
              "<p>5 rows × 785 columns</p>\n",
              "</div>\n",
              "    <div class=\"colab-df-buttons\">\n",
              "\n",
              "  <div class=\"colab-df-container\">\n",
              "    <button class=\"colab-df-convert\" onclick=\"convertToInteractive('df-a8a609f6-2181-4104-92f4-7d01a313e7d5')\"\n",
              "            title=\"Convert this dataframe to an interactive table.\"\n",
              "            style=\"display:none;\">\n",
              "\n",
              "  <svg xmlns=\"http://www.w3.org/2000/svg\" height=\"24px\" viewBox=\"0 -960 960 960\">\n",
              "    <path d=\"M120-120v-720h720v720H120Zm60-500h600v-160H180v160Zm220 220h160v-160H400v160Zm0 220h160v-160H400v160ZM180-400h160v-160H180v160Zm440 0h160v-160H620v160ZM180-180h160v-160H180v160Zm440 0h160v-160H620v160Z\"/>\n",
              "  </svg>\n",
              "    </button>\n",
              "\n",
              "  <style>\n",
              "    .colab-df-container {\n",
              "      display:flex;\n",
              "      gap: 12px;\n",
              "    }\n",
              "\n",
              "    .colab-df-convert {\n",
              "      background-color: #E8F0FE;\n",
              "      border: none;\n",
              "      border-radius: 50%;\n",
              "      cursor: pointer;\n",
              "      display: none;\n",
              "      fill: #1967D2;\n",
              "      height: 32px;\n",
              "      padding: 0 0 0 0;\n",
              "      width: 32px;\n",
              "    }\n",
              "\n",
              "    .colab-df-convert:hover {\n",
              "      background-color: #E2EBFA;\n",
              "      box-shadow: 0px 1px 2px rgba(60, 64, 67, 0.3), 0px 1px 3px 1px rgba(60, 64, 67, 0.15);\n",
              "      fill: #174EA6;\n",
              "    }\n",
              "\n",
              "    .colab-df-buttons div {\n",
              "      margin-bottom: 4px;\n",
              "    }\n",
              "\n",
              "    [theme=dark] .colab-df-convert {\n",
              "      background-color: #3B4455;\n",
              "      fill: #D2E3FC;\n",
              "    }\n",
              "\n",
              "    [theme=dark] .colab-df-convert:hover {\n",
              "      background-color: #434B5C;\n",
              "      box-shadow: 0px 1px 3px 1px rgba(0, 0, 0, 0.15);\n",
              "      filter: drop-shadow(0px 1px 2px rgba(0, 0, 0, 0.3));\n",
              "      fill: #FFFFFF;\n",
              "    }\n",
              "  </style>\n",
              "\n",
              "    <script>\n",
              "      const buttonEl =\n",
              "        document.querySelector('#df-a8a609f6-2181-4104-92f4-7d01a313e7d5 button.colab-df-convert');\n",
              "      buttonEl.style.display =\n",
              "        google.colab.kernel.accessAllowed ? 'block' : 'none';\n",
              "\n",
              "      async function convertToInteractive(key) {\n",
              "        const element = document.querySelector('#df-a8a609f6-2181-4104-92f4-7d01a313e7d5');\n",
              "        const dataTable =\n",
              "          await google.colab.kernel.invokeFunction('convertToInteractive',\n",
              "                                                    [key], {});\n",
              "        if (!dataTable) return;\n",
              "\n",
              "        const docLinkHtml = 'Like what you see? Visit the ' +\n",
              "          '<a target=\"_blank\" href=https://colab.research.google.com/notebooks/data_table.ipynb>data table notebook</a>'\n",
              "          + ' to learn more about interactive tables.';\n",
              "        element.innerHTML = '';\n",
              "        dataTable['output_type'] = 'display_data';\n",
              "        await google.colab.output.renderOutput(dataTable, element);\n",
              "        const docLink = document.createElement('div');\n",
              "        docLink.innerHTML = docLinkHtml;\n",
              "        element.appendChild(docLink);\n",
              "      }\n",
              "    </script>\n",
              "  </div>\n",
              "\n",
              "\n",
              "<div id=\"df-40e53ce2-42e4-4cd4-9c76-3e6814020670\">\n",
              "  <button class=\"colab-df-quickchart\" onclick=\"quickchart('df-40e53ce2-42e4-4cd4-9c76-3e6814020670')\"\n",
              "            title=\"Suggest charts\"\n",
              "            style=\"display:none;\">\n",
              "\n",
              "<svg xmlns=\"http://www.w3.org/2000/svg\" height=\"24px\"viewBox=\"0 0 24 24\"\n",
              "     width=\"24px\">\n",
              "    <g>\n",
              "        <path d=\"M19 3H5c-1.1 0-2 .9-2 2v14c0 1.1.9 2 2 2h14c1.1 0 2-.9 2-2V5c0-1.1-.9-2-2-2zM9 17H7v-7h2v7zm4 0h-2V7h2v10zm4 0h-2v-4h2v4z\"/>\n",
              "    </g>\n",
              "</svg>\n",
              "  </button>\n",
              "\n",
              "<style>\n",
              "  .colab-df-quickchart {\n",
              "      --bg-color: #E8F0FE;\n",
              "      --fill-color: #1967D2;\n",
              "      --hover-bg-color: #E2EBFA;\n",
              "      --hover-fill-color: #174EA6;\n",
              "      --disabled-fill-color: #AAA;\n",
              "      --disabled-bg-color: #DDD;\n",
              "  }\n",
              "\n",
              "  [theme=dark] .colab-df-quickchart {\n",
              "      --bg-color: #3B4455;\n",
              "      --fill-color: #D2E3FC;\n",
              "      --hover-bg-color: #434B5C;\n",
              "      --hover-fill-color: #FFFFFF;\n",
              "      --disabled-bg-color: #3B4455;\n",
              "      --disabled-fill-color: #666;\n",
              "  }\n",
              "\n",
              "  .colab-df-quickchart {\n",
              "    background-color: var(--bg-color);\n",
              "    border: none;\n",
              "    border-radius: 50%;\n",
              "    cursor: pointer;\n",
              "    display: none;\n",
              "    fill: var(--fill-color);\n",
              "    height: 32px;\n",
              "    padding: 0;\n",
              "    width: 32px;\n",
              "  }\n",
              "\n",
              "  .colab-df-quickchart:hover {\n",
              "    background-color: var(--hover-bg-color);\n",
              "    box-shadow: 0 1px 2px rgba(60, 64, 67, 0.3), 0 1px 3px 1px rgba(60, 64, 67, 0.15);\n",
              "    fill: var(--button-hover-fill-color);\n",
              "  }\n",
              "\n",
              "  .colab-df-quickchart-complete:disabled,\n",
              "  .colab-df-quickchart-complete:disabled:hover {\n",
              "    background-color: var(--disabled-bg-color);\n",
              "    fill: var(--disabled-fill-color);\n",
              "    box-shadow: none;\n",
              "  }\n",
              "\n",
              "  .colab-df-spinner {\n",
              "    border: 2px solid var(--fill-color);\n",
              "    border-color: transparent;\n",
              "    border-bottom-color: var(--fill-color);\n",
              "    animation:\n",
              "      spin 1s steps(1) infinite;\n",
              "  }\n",
              "\n",
              "  @keyframes spin {\n",
              "    0% {\n",
              "      border-color: transparent;\n",
              "      border-bottom-color: var(--fill-color);\n",
              "      border-left-color: var(--fill-color);\n",
              "    }\n",
              "    20% {\n",
              "      border-color: transparent;\n",
              "      border-left-color: var(--fill-color);\n",
              "      border-top-color: var(--fill-color);\n",
              "    }\n",
              "    30% {\n",
              "      border-color: transparent;\n",
              "      border-left-color: var(--fill-color);\n",
              "      border-top-color: var(--fill-color);\n",
              "      border-right-color: var(--fill-color);\n",
              "    }\n",
              "    40% {\n",
              "      border-color: transparent;\n",
              "      border-right-color: var(--fill-color);\n",
              "      border-top-color: var(--fill-color);\n",
              "    }\n",
              "    60% {\n",
              "      border-color: transparent;\n",
              "      border-right-color: var(--fill-color);\n",
              "    }\n",
              "    80% {\n",
              "      border-color: transparent;\n",
              "      border-right-color: var(--fill-color);\n",
              "      border-bottom-color: var(--fill-color);\n",
              "    }\n",
              "    90% {\n",
              "      border-color: transparent;\n",
              "      border-bottom-color: var(--fill-color);\n",
              "    }\n",
              "  }\n",
              "</style>\n",
              "\n",
              "  <script>\n",
              "    async function quickchart(key) {\n",
              "      const quickchartButtonEl =\n",
              "        document.querySelector('#' + key + ' button');\n",
              "      quickchartButtonEl.disabled = true;  // To prevent multiple clicks.\n",
              "      quickchartButtonEl.classList.add('colab-df-spinner');\n",
              "      try {\n",
              "        const charts = await google.colab.kernel.invokeFunction(\n",
              "            'suggestCharts', [key], {});\n",
              "      } catch (error) {\n",
              "        console.error('Error during call to suggestCharts:', error);\n",
              "      }\n",
              "      quickchartButtonEl.classList.remove('colab-df-spinner');\n",
              "      quickchartButtonEl.classList.add('colab-df-quickchart-complete');\n",
              "    }\n",
              "    (() => {\n",
              "      let quickchartButtonEl =\n",
              "        document.querySelector('#df-40e53ce2-42e4-4cd4-9c76-3e6814020670 button');\n",
              "      quickchartButtonEl.style.display =\n",
              "        google.colab.kernel.accessAllowed ? 'block' : 'none';\n",
              "    })();\n",
              "  </script>\n",
              "</div>\n",
              "    </div>\n",
              "  </div>\n"
            ]
          },
          "metadata": {},
          "execution_count": 8
        }
      ],
      "source": [
        "data.head()"
      ]
    },
    {
      "cell_type": "code",
      "execution_count": 9,
      "id": "803be440",
      "metadata": {
        "execution": {
          "iopub.execute_input": "2023-11-18T01:25:53.559486Z",
          "iopub.status.busy": "2023-11-18T01:25:53.559212Z",
          "iopub.status.idle": "2023-11-18T01:25:53.568367Z",
          "shell.execute_reply": "2023-11-18T01:25:53.567552Z"
        },
        "papermill": {
          "duration": 0.023245,
          "end_time": "2023-11-18T01:25:53.570328",
          "exception": false,
          "start_time": "2023-11-18T01:25:53.547083",
          "status": "completed"
        },
        "tags": [],
        "colab": {
          "base_uri": "https://localhost:8080/"
        },
        "id": "803be440",
        "outputId": "f69b238e-6da1-4320-8662-f5218102e61f"
      },
      "outputs": [
        {
          "output_type": "execute_result",
          "data": {
            "text/plain": [
              "[0,\n",
              " 1,\n",
              " 2,\n",
              " 3,\n",
              " 4,\n",
              " 5,\n",
              " 6,\n",
              " 7,\n",
              " 8,\n",
              " 10,\n",
              " 11,\n",
              " 12,\n",
              " 13,\n",
              " 14,\n",
              " 15,\n",
              " 16,\n",
              " 17,\n",
              " 18,\n",
              " 19,\n",
              " 20,\n",
              " 21,\n",
              " 22,\n",
              " 23,\n",
              " 24]"
            ]
          },
          "metadata": {},
          "execution_count": 9
        }
      ],
      "source": [
        "sorted(data.label.unique())"
      ]
    },
    {
      "cell_type": "markdown",
      "id": "f6547792",
      "metadata": {
        "papermill": {
          "duration": 0.01131,
          "end_time": "2023-11-18T01:25:53.592948",
          "exception": false,
          "start_time": "2023-11-18T01:25:53.581638",
          "status": "completed"
        },
        "tags": [],
        "id": "f6547792"
      },
      "source": [
        "**9 is missing ==the letter J**\n",
        "So build a function that adjust the class labels"
      ]
    },
    {
      "cell_type": "code",
      "execution_count": 10,
      "id": "560a7d54",
      "metadata": {
        "execution": {
          "iopub.execute_input": "2023-11-18T01:25:53.616685Z",
          "iopub.status.busy": "2023-11-18T01:25:53.616383Z",
          "iopub.status.idle": "2023-11-18T01:25:53.641540Z",
          "shell.execute_reply": "2023-11-18T01:25:53.640819Z"
        },
        "papermill": {
          "duration": 0.03921,
          "end_time": "2023-11-18T01:25:53.643441",
          "exception": false,
          "start_time": "2023-11-18T01:25:53.604231",
          "status": "completed"
        },
        "tags": [],
        "id": "560a7d54"
      },
      "outputs": [],
      "source": [
        "def adjust_class_labels(label):\n",
        "\n",
        "    if label >= 10:\n",
        "        label -= 1\n",
        "\n",
        "    return label\n",
        "\n",
        "# Adjusting the class labels (training data)\n",
        "data[\"label\"] = data[\"label\"].apply(adjust_class_labels)"
      ]
    },
    {
      "cell_type": "code",
      "execution_count": 11,
      "id": "7691bb6a",
      "metadata": {
        "execution": {
          "iopub.execute_input": "2023-11-18T01:25:53.667231Z",
          "iopub.status.busy": "2023-11-18T01:25:53.666967Z",
          "iopub.status.idle": "2023-11-18T01:25:53.675521Z",
          "shell.execute_reply": "2023-11-18T01:25:53.674693Z"
        },
        "papermill": {
          "duration": 0.022723,
          "end_time": "2023-11-18T01:25:53.677468",
          "exception": false,
          "start_time": "2023-11-18T01:25:53.654745",
          "status": "completed"
        },
        "tags": [],
        "colab": {
          "base_uri": "https://localhost:8080/"
        },
        "id": "7691bb6a",
        "outputId": "3e121dbd-76e9-41ed-cc0d-91c1c7397af1"
      },
      "outputs": [
        {
          "output_type": "execute_result",
          "data": {
            "text/plain": [
              "array([ 0,  1,  2,  3,  4,  5,  6,  7,  8,  9, 10, 11, 12, 13, 14, 15, 16,\n",
              "       17, 18, 19, 20, 21, 22, 23])"
            ]
          },
          "metadata": {},
          "execution_count": 11
        }
      ],
      "source": [
        "np.unique(data[\"label\"].values)"
      ]
    },
    {
      "cell_type": "markdown",
      "id": "89dc26bb",
      "metadata": {
        "papermill": {
          "duration": 0.011586,
          "end_time": "2023-11-18T01:25:53.700494",
          "exception": false,
          "start_time": "2023-11-18T01:25:53.688908",
          "status": "completed"
        },
        "tags": [],
        "id": "89dc26bb"
      },
      "source": [
        "**#Checking for missing values**"
      ]
    },
    {
      "cell_type": "code",
      "execution_count": 12,
      "id": "b82c11bd",
      "metadata": {
        "execution": {
          "iopub.execute_input": "2023-11-18T01:25:53.724454Z",
          "iopub.status.busy": "2023-11-18T01:25:53.724202Z",
          "iopub.status.idle": "2023-11-18T01:25:53.747623Z",
          "shell.execute_reply": "2023-11-18T01:25:53.746835Z"
        },
        "papermill": {
          "duration": 0.037692,
          "end_time": "2023-11-18T01:25:53.749640",
          "exception": false,
          "start_time": "2023-11-18T01:25:53.711948",
          "status": "completed"
        },
        "tags": [],
        "colab": {
          "base_uri": "https://localhost:8080/"
        },
        "id": "b82c11bd",
        "outputId": "cfc6fa83-cc40-4f4c-c06d-f0b1ccf606d2"
      },
      "outputs": [
        {
          "output_type": "execute_result",
          "data": {
            "text/plain": [
              "label       0\n",
              "pixel1      0\n",
              "pixel2      0\n",
              "pixel3      0\n",
              "pixel4      0\n",
              "           ..\n",
              "pixel780    0\n",
              "pixel781    0\n",
              "pixel782    0\n",
              "pixel783    0\n",
              "pixel784    0\n",
              "Length: 785, dtype: int64"
            ]
          },
          "metadata": {},
          "execution_count": 12
        }
      ],
      "source": [
        "data.isnull().sum()"
      ]
    },
    {
      "cell_type": "markdown",
      "id": "7f4d2694",
      "metadata": {
        "papermill": {
          "duration": 0.011399,
          "end_time": "2023-11-18T01:25:53.773005",
          "exception": false,
          "start_time": "2023-11-18T01:25:53.761606",
          "status": "completed"
        },
        "tags": [],
        "id": "7f4d2694"
      },
      "source": [
        "# **plotting some images**"
      ]
    },
    {
      "cell_type": "code",
      "execution_count": 13,
      "id": "914777fd",
      "metadata": {
        "execution": {
          "iopub.execute_input": "2023-11-18T01:25:53.797364Z",
          "iopub.status.busy": "2023-11-18T01:25:53.796764Z",
          "iopub.status.idle": "2023-11-18T01:25:55.152323Z",
          "shell.execute_reply": "2023-11-18T01:25:55.151357Z"
        },
        "papermill": {
          "duration": 1.370047,
          "end_time": "2023-11-18T01:25:55.154425",
          "exception": false,
          "start_time": "2023-11-18T01:25:53.784378",
          "status": "completed"
        },
        "tags": [],
        "colab": {
          "base_uri": "https://localhost:8080/",
          "height": 670
        },
        "id": "914777fd",
        "outputId": "25ff1a3a-a31d-4e4c-9198-7930b002472a"
      },
      "outputs": [
        {
          "output_type": "display_data",
          "data": {
            "text/plain": [
              "<Figure size 1600x1600 with 7 Axes>"
            ],
            "image/png": "[encoded data removed]"
          },
          "metadata": {}
        }
      ],
      "source": [
        "import matplotlib.image as mpimg\n",
        "import matplotlib.pyplot as plt\n",
        "import random\n",
        "images=data.drop('label',axis=1).values\n",
        "plt.figure(figsize=(16,16))\n",
        "for i in range(7):\n",
        "    img=images[i].reshape(28,28)\n",
        "    fig = plt.subplot(4,4,i+1)\n",
        "    plt.xlabel(data['label'][i])\n",
        "    plt.imshow(img, cmap='gray')\n",
        "\n",
        ""
      ]
    },
    {
      "cell_type": "markdown",
      "id": "bd4c36f4",
      "metadata": {
        "papermill": {
          "duration": 0.012482,
          "end_time": "2023-11-18T01:25:55.180326",
          "exception": false,
          "start_time": "2023-11-18T01:25:55.167844",
          "status": "completed"
        },
        "tags": [],
        "id": "bd4c36f4"
      },
      "source": [
        "# Processing the data"
      ]
    },
    {
      "cell_type": "code",
      "execution_count": 14,
      "id": "23c579ad",
      "metadata": {
        "execution": {
          "iopub.execute_input": "2023-11-18T01:25:55.207031Z",
          "iopub.status.busy": "2023-11-18T01:25:55.206740Z",
          "iopub.status.idle": "2023-11-18T01:25:55.470220Z",
          "shell.execute_reply": "2023-11-18T01:25:55.469420Z"
        },
        "papermill": {
          "duration": 0.279529,
          "end_time": "2023-11-18T01:25:55.472716",
          "exception": false,
          "start_time": "2023-11-18T01:25:55.193187",
          "status": "completed"
        },
        "tags": [],
        "id": "23c579ad"
      },
      "outputs": [],
      "source": [
        "#convertir data to array\n",
        "\n",
        "x=data.drop('label',axis=1)\n",
        "y=data.label\n",
        "\n",
        "#splitting the data using 80% of data as training data\n",
        "X_train, X_val, y_train, y_val = train_test_split(x, y, test_size=0.2,shuffle=True, random_state=2)\n",
        "\n",
        "\n",
        "#reshape the data to fit in the model as size of input 28*28**\n",
        "\n",
        "X_train = X_train.values.reshape(-1,28,28,1)\n",
        "X_val = X_val.values.reshape(-1,28,28,1)\n",
        "\n",
        "#scaling\n",
        "X_train=X_train/255.0\n",
        "X_val=X_val/255.0\n",
        "\n",
        "\n",
        "#convert the lables to categorical data using one-hot encoding\n",
        "y_train=to_categorical(y_train)\n",
        "\n",
        "y_val=to_categorical(y_val)"
      ]
    },
    {
      "cell_type": "code",
      "execution_count": 15,
      "id": "102188c2",
      "metadata": {
        "execution": {
          "iopub.execute_input": "2023-11-18T01:25:55.499862Z",
          "iopub.status.busy": "2023-11-18T01:25:55.499288Z",
          "iopub.status.idle": "2023-11-18T01:25:55.505301Z",
          "shell.execute_reply": "2023-11-18T01:25:55.504482Z"
        },
        "papermill": {
          "duration": 0.021136,
          "end_time": "2023-11-18T01:25:55.507135",
          "exception": false,
          "start_time": "2023-11-18T01:25:55.485999",
          "status": "completed"
        },
        "tags": [],
        "colab": {
          "base_uri": "https://localhost:8080/"
        },
        "id": "102188c2",
        "outputId": "be477a2c-bfd6-47f6-e300-76369a92c223"
      },
      "outputs": [
        {
          "output_type": "execute_result",
          "data": {
            "text/plain": [
              "(5491, 28, 28, 1)"
            ]
          },
          "metadata": {},
          "execution_count": 15
        }
      ],
      "source": [
        "X_val.shape"
      ]
    },
    {
      "cell_type": "markdown",
      "id": "f02a42f4",
      "metadata": {
        "papermill": {
          "duration": 0.012472,
          "end_time": "2023-11-18T01:25:55.578706",
          "exception": false,
          "start_time": "2023-11-18T01:25:55.566234",
          "status": "completed"
        },
        "tags": [],
        "id": "f02a42f4"
      },
      "source": [
        "# Bulidng our network : CNN model\n",
        "**Fisrt Approach**"
      ]
    },
    {
      "cell_type": "code",
      "execution_count": 16,
      "id": "787b0771",
      "metadata": {
        "execution": {
          "iopub.execute_input": "2023-11-18T01:25:55.605762Z",
          "iopub.status.busy": "2023-11-18T01:25:55.605394Z",
          "iopub.status.idle": "2023-11-18T01:25:58.789376Z",
          "shell.execute_reply": "2023-11-18T01:25:58.788388Z"
        },
        "papermill": {
          "duration": 3.200623,
          "end_time": "2023-11-18T01:25:58.792265",
          "exception": false,
          "start_time": "2023-11-18T01:25:55.591642",
          "status": "completed"
        },
        "tags": [],
        "id": "787b0771"
      },
      "outputs": [],
      "source": [
        "model = models.Sequential()\n",
        "model.add(layers.Conv2D(32, (3, 3), activation='relu', input_shape=(28, 28,1)))\n",
        "model.add(layers.MaxPooling2D((2, 2)))\n",
        "model.add(layers.Conv2D(64, (3, 3), activation='relu'))\n",
        "model.add(layers.MaxPooling2D((2, 2)))\n",
        "model.add(layers.Flatten())\n",
        "model.add(layers.Dense(1024, activation='relu'))\n",
        "model.add(layers.Dropout(0.5))\n",
        "model.add(layers.Dense(24, activation='softmax'))"
      ]
    },
    {
      "cell_type": "code",
      "execution_count": 17,
      "id": "53e18020",
      "metadata": {
        "execution": {
          "iopub.execute_input": "2023-11-18T01:25:58.824139Z",
          "iopub.status.busy": "2023-11-18T01:25:58.823268Z",
          "iopub.status.idle": "2023-11-18T01:25:58.856511Z",
          "shell.execute_reply": "2023-11-18T01:25:58.855520Z"
        },
        "papermill": {
          "duration": 0.054409,
          "end_time": "2023-11-18T01:25:58.863474",
          "exception": false,
          "start_time": "2023-11-18T01:25:58.809065",
          "status": "completed"
        },
        "tags": [],
        "colab": {
          "base_uri": "https://localhost:8080/"
        },
        "id": "53e18020",
        "outputId": "94964551-775a-4a35-fbb5-7e3f83da9710"
      },
      "outputs": [
        {
          "output_type": "stream",
          "name": "stdout",
          "text": [
            "Model: \"sequential\"\n",
            "_________________________________________________________________\n",
            " Layer (type)                Output Shape              Param #   \n",
            "=================================================================\n",
            " conv2d (Conv2D)             (None, 26, 26, 32)        320       \n",
            "                                                                 \n",
            " max_pooling2d (MaxPooling2  (None, 13, 13, 32)        0         \n",
            " D)                                                              \n",
            "                                                                 \n",
            " conv2d_1 (Conv2D)           (None, 11, 11, 64)        18496     \n",
            "                                                                 \n",
            " max_pooling2d_1 (MaxPoolin  (None, 5, 5, 64)          0         \n",
            " g2D)                                                            \n",
            "                                                                 \n",
            " flatten (Flatten)           (None, 1600)              0         \n",
            "                                                                 \n",
            " dense (Dense)               (None, 1024)              1639424   \n",
            "                                                                 \n",
            " dropout (Dropout)           (None, 1024)              0         \n",
            "                                                                 \n",
            " dense_1 (Dense)             (None, 24)                24600     \n",
            "                                                                 \n",
            "=================================================================\n",
            "Total params: 1682840 (6.42 MB)\n",
            "Trainable params: 1682840 (6.42 MB)\n",
            "Non-trainable params: 0 (0.00 Byte)\n",
            "_________________________________________________________________\n"
          ]
        }
      ],
      "source": [
        "model.summary()"
      ]
    },
    {
      "cell_type": "code",
      "execution_count": 19,
      "id": "e8626b12",
      "metadata": {
        "execution": {
          "iopub.execute_input": "2023-11-18T01:25:58.899173Z",
          "iopub.status.busy": "2023-11-18T01:25:58.898211Z",
          "iopub.status.idle": "2023-11-18T01:26:31.183055Z",
          "shell.execute_reply": "2023-11-18T01:26:31.182120Z"
        },
        "papermill": {
          "duration": 32.318045,
          "end_time": "2023-11-18T01:26:31.200428",
          "exception": false,
          "start_time": "2023-11-18T01:25:58.882383",
          "status": "completed"
        },
        "tags": [],
        "colab": {
          "base_uri": "https://localhost:8080/"
        },
        "id": "e8626b12",
        "outputId": "53f75d08-e48a-41f5-bc97-032e0ae863c8"
      },
      "outputs": [
        {
          "output_type": "stream",
          "name": "stderr",
          "text": [
            "WARNING:absl:`lr` is deprecated in Keras optimizer, please use `learning_rate` or use the legacy optimizer, e.g.,tf.keras.optimizers.legacy.RMSprop.\n"
          ]
        },
        {
          "output_type": "stream",
          "name": "stdout",
          "text": [
            "Epoch 1/10\n",
            "732/732 - 35s - loss: 0.8634 - accuracy: 0.7375 - val_loss: 0.0964 - val_accuracy: 0.9667 - 35s/epoch - 48ms/step\n",
            "Epoch 2/10\n",
            "732/732 - 33s - loss: 0.0563 - accuracy: 0.9836 - val_loss: 0.0028 - val_accuracy: 0.9996 - 33s/epoch - 45ms/step\n",
            "Epoch 3/10\n",
            "732/732 - 33s - loss: 0.0145 - accuracy: 0.9959 - val_loss: 7.8815e-04 - val_accuracy: 1.0000 - 33s/epoch - 45ms/step\n",
            "Epoch 4/10\n",
            "732/732 - 33s - loss: 0.0076 - accuracy: 0.9978 - val_loss: 1.1394e-04 - val_accuracy: 1.0000 - 33s/epoch - 45ms/step\n",
            "Epoch 5/10\n",
            "732/732 - 34s - loss: 0.0025 - accuracy: 0.9993 - val_loss: 6.4617e-05 - val_accuracy: 1.0000 - 34s/epoch - 47ms/step\n",
            "Epoch 6/10\n",
            "732/732 - 34s - loss: 0.0042 - accuracy: 0.9986 - val_loss: 2.1676e-05 - val_accuracy: 1.0000 - 34s/epoch - 46ms/step\n",
            "Epoch 7/10\n",
            "732/732 - 33s - loss: 0.0020 - accuracy: 0.9993 - val_loss: 1.4129e-05 - val_accuracy: 1.0000 - 33s/epoch - 45ms/step\n",
            "Epoch 8/10\n",
            "732/732 - 35s - loss: 0.0014 - accuracy: 0.9995 - val_loss: 1.7471e-05 - val_accuracy: 1.0000 - 35s/epoch - 47ms/step\n",
            "Epoch 9/10\n",
            "732/732 - 34s - loss: 4.8830e-04 - accuracy: 0.9998 - val_loss: 4.9695e-07 - val_accuracy: 1.0000 - 34s/epoch - 47ms/step\n",
            "Epoch 10/10\n"
          ]
        },
        {
          "output_type": "stream",
          "name": "stderr",
          "text": [
            "WARNING:tensorflow:Your input ran out of data; interrupting training. Make sure that your dataset or generator can generate at least `steps_per_epoch * epochs` batches (in this case, 7320 batches). You may need to use the repeat() function when building your dataset.\n"
          ]
        },
        {
          "output_type": "stream",
          "name": "stdout",
          "text": [
            "732/732 - 22s - loss: 5.4037e-04 - accuracy: 0.9998 - val_loss: 3.0417e-05 - val_accuracy: 1.0000 - 22s/epoch - 30ms/step\n"
          ]
        }
      ],
      "source": [
        "#compile the model\n",
        "        #choice of optimizer RMSProp\n",
        "    # decay\n",
        "model.compile(optimizer=RMSprop(lr=0.001, rho=0.9, epsilon=1e-08),\n",
        "              loss='categorical_crossentropy',\n",
        "              metrics=['accuracy'])\n",
        "\n",
        "\n",
        "batch_size=30\n",
        "epochs=10\n",
        "\n",
        "# Train your model using augmented data/\n",
        "history=model.fit(X_train,y_train, steps_per_epoch=X_train.shape[0] // batch_size,\n",
        "                            epochs=epochs,validation_data=(X_val, y_val),verbose=2)\n",
        "\n"
      ]
    },
    {
      "cell_type": "markdown",
      "id": "fef10666",
      "metadata": {
        "papermill": {
          "duration": 0.015876,
          "end_time": "2023-11-18T01:26:31.232451",
          "exception": false,
          "start_time": "2023-11-18T01:26:31.216575",
          "status": "completed"
        },
        "tags": [],
        "id": "fef10666"
      },
      "source": [
        "# Evaluation of the performance #try1"
      ]
    },
    {
      "cell_type": "code",
      "execution_count": 20,
      "id": "3921a1d1",
      "metadata": {
        "execution": {
          "iopub.execute_input": "2023-11-18T01:26:31.265706Z",
          "iopub.status.busy": "2023-11-18T01:26:31.265369Z",
          "iopub.status.idle": "2023-11-18T01:26:32.563631Z",
          "shell.execute_reply": "2023-11-18T01:26:32.562708Z"
        },
        "papermill": {
          "duration": 1.317722,
          "end_time": "2023-11-18T01:26:32.566089",
          "exception": false,
          "start_time": "2023-11-18T01:26:31.248367",
          "status": "completed"
        },
        "tags": [],
        "colab": {
          "base_uri": "https://localhost:8080/"
        },
        "id": "3921a1d1",
        "outputId": "9da2cb9a-7a2e-4909-c5a3-dfc38f2b6815"
      },
      "outputs": [
        {
          "output_type": "stream",
          "name": "stdout",
          "text": [
            "50/50 [==============================] - 3s 53ms/step - loss: 0.5792 - accuracy: 0.9183\n"
          ]
        }
      ],
      "source": [
        "\n",
        "test=pd.read_csv('/content/sign_mnist_test/sign_mnist_test.csv')\n",
        "\n",
        "y_test=test[\"label\"].apply(adjust_class_labels)\n",
        "\n",
        "\n",
        "test=test.drop('label',axis=1)\n",
        "test=test.values.reshape((-1,28, 28,1))\n",
        "\n",
        "test=test/255\n",
        "y_test=to_categorical(y_test)\n",
        "\n",
        "\n",
        "\n",
        "acc = model.evaluate(test,y_test, steps=50)"
      ]
    },
    {
      "cell_type": "code",
      "execution_count": 21,
      "id": "7ef555d3",
      "metadata": {
        "execution": {
          "iopub.execute_input": "2023-11-18T01:26:32.600899Z",
          "iopub.status.busy": "2023-11-18T01:26:32.600614Z",
          "iopub.status.idle": "2023-11-18T01:26:33.007298Z",
          "shell.execute_reply": "2023-11-18T01:26:33.006448Z"
        },
        "papermill": {
          "duration": 0.426283,
          "end_time": "2023-11-18T01:26:33.009353",
          "exception": false,
          "start_time": "2023-11-18T01:26:32.583070",
          "status": "completed"
        },
        "tags": [],
        "colab": {
          "base_uri": "https://localhost:8080/",
          "height": 887
        },
        "id": "7ef555d3",
        "outputId": "d94f20c6-8906-4d61-df12-2adbf013e245"
      },
      "outputs": [
        {
          "output_type": "display_data",
          "data": {
            "text/plain": [
              "<Figure size 640x480 with 1 Axes>"
            ],
            "image/png": "[encoded data removed]"
          },
          "metadata": {}
        },
        {
          "output_type": "display_data",
          "data": {
            "text/plain": [
              "<Figure size 640x480 with 1 Axes>"
            ],
            "image/png": "[encoded data removed]"
          },
          "metadata": {}
        }
      ],
      "source": [
        "acc = history.history['accuracy']\n",
        "val_acc = history.history['val_accuracy']\n",
        "loss = history.history['loss']\n",
        "val_loss = history.history['val_loss']\n",
        "epochs = range(len(acc))\n",
        "\n",
        "plt.plot(epochs, acc, 'bo', label='Training acc')\n",
        "plt.plot(epochs, val_acc, 'b', label='Validation acc')\n",
        "plt.title('Training and validation accuracy')\n",
        "plt.legend()\n",
        "\n",
        "plt.figure()\n",
        "\n",
        "plt.plot(epochs, loss, 'bo', label='Training loss')\n",
        "plt.plot(epochs, val_loss, 'b', label='Validation loss')\n",
        "plt.title('Training and validation loss')\n",
        "plt.legend()\n",
        "\n",
        "plt.show()"
      ]
    },
    {
      "cell_type": "markdown",
      "id": "32df44ef",
      "metadata": {
        "papermill": {
          "duration": 0.017009,
          "end_time": "2023-11-18T01:26:33.043880",
          "exception": false,
          "start_time": "2023-11-18T01:26:33.026871",
          "status": "completed"
        },
        "tags": [],
        "id": "32df44ef"
      },
      "source": [
        "**Clearly this is overfitting ,the model needs more parameteres cuz the data is large**"
      ]
    },
    {
      "cell_type": "code",
      "execution_count": 22,
      "id": "07f958cf",
      "metadata": {
        "execution": {
          "iopub.execute_input": "2023-11-18T01:26:33.080299Z",
          "iopub.status.busy": "2023-11-18T01:26:33.079968Z",
          "iopub.status.idle": "2023-11-18T01:26:33.150153Z",
          "shell.execute_reply": "2023-11-18T01:26:33.149298Z"
        },
        "papermill": {
          "duration": 0.090259,
          "end_time": "2023-11-18T01:26:33.152323",
          "exception": false,
          "start_time": "2023-11-18T01:26:33.062064",
          "status": "completed"
        },
        "tags": [],
        "colab": {
          "base_uri": "https://localhost:8080/"
        },
        "id": "07f958cf",
        "outputId": "798bf32c-9705-4e1c-895f-7078aa4827ef"
      },
      "outputs": [
        {
          "output_type": "execute_result",
          "data": {
            "text/plain": [
              "['model_try1.pkl']"
            ]
          },
          "metadata": {},
          "execution_count": 22
        }
      ],
      "source": [
        "import joblib\n",
        "joblib.dump(model, 'model_try1.pkl')"
      ]
    },
    {
      "cell_type": "markdown",
      "id": "6ad7d1cb",
      "metadata": {
        "papermill": {
          "duration": 0.016891,
          "end_time": "2023-11-18T01:26:33.186948",
          "exception": false,
          "start_time": "2023-11-18T01:26:33.170057",
          "status": "completed"
        },
        "tags": [],
        "id": "6ad7d1cb"
      },
      "source": [
        "# #Try2 : adding more layers\n"
      ]
    },
    {
      "cell_type": "code",
      "execution_count": 23,
      "id": "177c791b",
      "metadata": {
        "execution": {
          "iopub.execute_input": "2023-11-18T01:26:33.222384Z",
          "iopub.status.busy": "2023-11-18T01:26:33.222093Z",
          "iopub.status.idle": "2023-11-18T01:26:33.334690Z",
          "shell.execute_reply": "2023-11-18T01:26:33.333791Z"
        },
        "papermill": {
          "duration": 0.133048,
          "end_time": "2023-11-18T01:26:33.337036",
          "exception": false,
          "start_time": "2023-11-18T01:26:33.203988",
          "status": "completed"
        },
        "tags": [],
        "id": "177c791b"
      },
      "outputs": [],
      "source": [
        "model = models.Sequential()\n",
        "model.add(layers.Conv2D(32, (3, 3), activation='relu', input_shape=(28, 28,1)))\n",
        "model.add(layers.MaxPooling2D((2, 2)))\n",
        "model.add(layers.Conv2D(64, (5, 5), activation='relu'))\n",
        "model.add(layers.MaxPooling2D((2, 2)))\n",
        "model.add(layers.Conv2D(128, (5, 5),padding='same', activation='relu'))\n",
        "model.add(layers.MaxPooling2D((2, 2)))\n",
        "model.add(layers.Flatten())\n",
        "model.add(layers.Dense(256, activation='relu'))\n",
        "model.add(layers.Dropout(0.5))\n",
        "model.add(layers.Dense(1024, activation='relu'))\n",
        "model.add(layers.Dropout(0.5))\n",
        "model.add(layers.Dense(24, activation='softmax'))"
      ]
    },
    {
      "cell_type": "code",
      "execution_count": 24,
      "id": "54730f79",
      "metadata": {
        "execution": {
          "iopub.execute_input": "2023-11-18T01:26:33.373292Z",
          "iopub.status.busy": "2023-11-18T01:26:33.372987Z",
          "iopub.status.idle": "2023-11-18T01:26:33.409346Z",
          "shell.execute_reply": "2023-11-18T01:26:33.408430Z"
        },
        "papermill": {
          "duration": 0.067307,
          "end_time": "2023-11-18T01:26:33.421937",
          "exception": false,
          "start_time": "2023-11-18T01:26:33.354630",
          "status": "completed"
        },
        "tags": [],
        "colab": {
          "base_uri": "https://localhost:8080/"
        },
        "id": "54730f79",
        "outputId": "5be771be-828a-4d07-80fc-7896b2665355"
      },
      "outputs": [
        {
          "output_type": "stream",
          "name": "stdout",
          "text": [
            "Model: \"sequential_1\"\n",
            "_________________________________________________________________\n",
            " Layer (type)                Output Shape              Param #   \n",
            "=================================================================\n",
            " conv2d_2 (Conv2D)           (None, 26, 26, 32)        320       \n",
            "                                                                 \n",
            " max_pooling2d_2 (MaxPoolin  (None, 13, 13, 32)        0         \n",
            " g2D)                                                            \n",
            "                                                                 \n",
            " conv2d_3 (Conv2D)           (None, 9, 9, 64)          51264     \n",
            "                                                                 \n",
            " max_pooling2d_3 (MaxPoolin  (None, 4, 4, 64)          0         \n",
            " g2D)                                                            \n",
            "                                                                 \n",
            " conv2d_4 (Conv2D)           (None, 4, 4, 128)         204928    \n",
            "                                                                 \n",
            " max_pooling2d_4 (MaxPoolin  (None, 2, 2, 128)         0         \n",
            " g2D)                                                            \n",
            "                                                                 \n",
            " flatten_1 (Flatten)         (None, 512)               0         \n",
            "                                                                 \n",
            " dense_2 (Dense)             (None, 256)               131328    \n",
            "                                                                 \n",
            " dropout_1 (Dropout)         (None, 256)               0         \n",
            "                                                                 \n",
            " dense_3 (Dense)             (None, 1024)              263168    \n",
            "                                                                 \n",
            " dropout_2 (Dropout)         (None, 1024)              0         \n",
            "                                                                 \n",
            " dense_4 (Dense)             (None, 24)                24600     \n",
            "                                                                 \n",
            "=================================================================\n",
            "Total params: 675608 (2.58 MB)\n",
            "Trainable params: 675608 (2.58 MB)\n",
            "Non-trainable params: 0 (0.00 Byte)\n",
            "_________________________________________________________________\n"
          ]
        }
      ],
      "source": [
        "model.summary()"
      ]
    },
    {
      "cell_type": "code",
      "execution_count": 26,
      "id": "295a4f78",
      "metadata": {
        "execution": {
          "iopub.execute_input": "2023-11-18T01:26:33.475160Z",
          "iopub.status.busy": "2023-11-18T01:26:33.474822Z",
          "iopub.status.idle": "2023-11-18T01:26:47.918626Z",
          "shell.execute_reply": "2023-11-18T01:26:47.917773Z"
        },
        "papermill": {
          "duration": 14.473706,
          "end_time": "2023-11-18T01:26:47.920792",
          "exception": false,
          "start_time": "2023-11-18T01:26:33.447086",
          "status": "completed"
        },
        "tags": [],
        "colab": {
          "base_uri": "https://localhost:8080/"
        },
        "id": "295a4f78",
        "outputId": "027f92f4-4d59-4e26-c7d1-cdcce81c3b36"
      },
      "outputs": [
        {
          "output_type": "stream",
          "name": "stderr",
          "text": [
            "WARNING:absl:`lr` is deprecated in Keras optimizer, please use `learning_rate` or use the legacy optimizer, e.g.,tf.keras.optimizers.legacy.RMSprop.\n"
          ]
        },
        {
          "output_type": "stream",
          "name": "stdout",
          "text": [
            "Epoch 1/10\n",
            "219/219 - 41s - loss: 2.5040 - accuracy: 0.1987 - val_loss: 1.3488 - val_accuracy: 0.5433 - 41s/epoch - 186ms/step\n",
            "Epoch 2/10\n",
            "219/219 - 44s - loss: 0.8934 - accuracy: 0.6875 - val_loss: 0.2113 - val_accuracy: 0.9261 - 44s/epoch - 199ms/step\n",
            "Epoch 3/10\n",
            "219/219 - 40s - loss: 0.2181 - accuracy: 0.9281 - val_loss: 0.0107 - val_accuracy: 1.0000 - 40s/epoch - 181ms/step\n",
            "Epoch 4/10\n",
            "219/219 - 40s - loss: 0.0642 - accuracy: 0.9831 - val_loss: 0.0417 - val_accuracy: 0.9849 - 40s/epoch - 182ms/step\n",
            "Epoch 5/10\n",
            "219/219 - 43s - loss: 0.0255 - accuracy: 0.9935 - val_loss: 0.0027 - val_accuracy: 0.9987 - 43s/epoch - 195ms/step\n",
            "Epoch 6/10\n",
            "219/219 - 39s - loss: 0.0240 - accuracy: 0.9942 - val_loss: 2.4653e-04 - val_accuracy: 1.0000 - 39s/epoch - 177ms/step\n",
            "Epoch 7/10\n",
            "219/219 - 39s - loss: 0.0162 - accuracy: 0.9952 - val_loss: 0.0011 - val_accuracy: 0.9998 - 39s/epoch - 177ms/step\n",
            "Epoch 8/10\n",
            "219/219 - 42s - loss: 0.0104 - accuracy: 0.9974 - val_loss: 0.0014 - val_accuracy: 0.9995 - 42s/epoch - 190ms/step\n",
            "Epoch 9/10\n",
            "219/219 - 39s - loss: 0.0138 - accuracy: 0.9968 - val_loss: 8.8573e-05 - val_accuracy: 1.0000 - 39s/epoch - 178ms/step\n",
            "Epoch 10/10\n"
          ]
        },
        {
          "output_type": "stream",
          "name": "stderr",
          "text": [
            "WARNING:tensorflow:Your input ran out of data; interrupting training. Make sure that your dataset or generator can generate at least `steps_per_epoch * epochs` batches (in this case, 2190 batches). You may need to use the repeat() function when building your dataset.\n"
          ]
        },
        {
          "output_type": "stream",
          "name": "stdout",
          "text": [
            "219/219 - 38s - loss: 0.0071 - accuracy: 0.9982 - val_loss: 1.0777e-06 - val_accuracy: 1.0000 - 38s/epoch - 172ms/step\n"
          ]
        }
      ],
      "source": [
        "#compile the model\n",
        "        #choice of optimizer RMSProp\n",
        "model.compile(optimizer=RMSprop(lr=0.001, rho=0.9, epsilon=1e-08),\n",
        "              loss='categorical_crossentropy',\n",
        "              metrics=['accuracy'])\n",
        "\n",
        "\n",
        "batch_size=100\n",
        "epochs=10\n",
        "\n",
        "# Train your model using augmented data/\n",
        "history=model.fit(X_train,y_train, steps_per_epoch=X_train.shape[0] // batch_size,\n",
        "                            epochs=epochs,validation_data=(X_val, y_val),verbose=2)\n",
        "\n"
      ]
    },
    {
      "cell_type": "code",
      "execution_count": 27,
      "id": "a3ae4a35",
      "metadata": {
        "execution": {
          "iopub.execute_input": "2023-11-18T01:26:47.965747Z",
          "iopub.status.busy": "2023-11-18T01:26:47.965430Z",
          "iopub.status.idle": "2023-11-18T01:26:48.006184Z",
          "shell.execute_reply": "2023-11-18T01:26:48.005391Z"
        },
        "papermill": {
          "duration": 0.065095,
          "end_time": "2023-11-18T01:26:48.008230",
          "exception": false,
          "start_time": "2023-11-18T01:26:47.943135",
          "status": "completed"
        },
        "tags": [],
        "colab": {
          "base_uri": "https://localhost:8080/"
        },
        "id": "a3ae4a35",
        "outputId": "ae736642-b37c-42af-92dd-bb68c76d2744"
      },
      "outputs": [
        {
          "output_type": "stream",
          "name": "stderr",
          "text": [
            "/usr/local/lib/python3.10/dist-packages/keras/src/engine/training.py:3079: UserWarning: You are saving your model as an HDF5 file via `model.save()`. This file format is considered legacy. We recommend using instead the native Keras format, e.g. `model.save('my_model.keras')`.\n",
            "  saving_api.save_model(\n"
          ]
        }
      ],
      "source": [
        "#saving the mdoel\n",
        "model.save('try_model.h5')"
      ]
    },
    {
      "cell_type": "markdown",
      "id": "213cee73",
      "metadata": {
        "papermill": {
          "duration": 0.021273,
          "end_time": "2023-11-18T01:26:48.051180",
          "exception": false,
          "start_time": "2023-11-18T01:26:48.029907",
          "status": "completed"
        },
        "tags": [],
        "id": "213cee73"
      },
      "source": [
        "# Evaluation 94.55% , on the data test"
      ]
    },
    {
      "cell_type": "code",
      "execution_count": 28,
      "id": "ff5421fd",
      "metadata": {
        "execution": {
          "iopub.execute_input": "2023-11-18T01:26:48.095567Z",
          "iopub.status.busy": "2023-11-18T01:26:48.094930Z",
          "iopub.status.idle": "2023-11-18T01:26:48.398397Z",
          "shell.execute_reply": "2023-11-18T01:26:48.397581Z"
        },
        "papermill": {
          "duration": 0.328142,
          "end_time": "2023-11-18T01:26:48.400652",
          "exception": false,
          "start_time": "2023-11-18T01:26:48.072510",
          "status": "completed"
        },
        "tags": [],
        "colab": {
          "base_uri": "https://localhost:8080/"
        },
        "id": "ff5421fd",
        "outputId": "822f23ca-6249-4a9e-db07-9b06238a14d6"
      },
      "outputs": [
        {
          "output_type": "stream",
          "name": "stdout",
          "text": [
            "50/50 [==============================] - 4s 86ms/step - loss: 0.1625 - accuracy: 0.9695\n"
          ]
        }
      ],
      "source": [
        "test_loss, test_acc = model.evaluate(test,y_test, steps=50)"
      ]
    },
    {
      "cell_type": "code",
      "execution_count": 29,
      "id": "d5dd2c91",
      "metadata": {
        "execution": {
          "iopub.execute_input": "2023-11-18T01:26:48.445844Z",
          "iopub.status.busy": "2023-11-18T01:26:48.445527Z",
          "iopub.status.idle": "2023-11-18T01:26:48.979276Z",
          "shell.execute_reply": "2023-11-18T01:26:48.978376Z"
        },
        "papermill": {
          "duration": 0.558564,
          "end_time": "2023-11-18T01:26:48.981396",
          "exception": false,
          "start_time": "2023-11-18T01:26:48.422832",
          "status": "completed"
        },
        "tags": [],
        "colab": {
          "base_uri": "https://localhost:8080/",
          "height": 887
        },
        "id": "d5dd2c91",
        "outputId": "6a250208-4783-43c1-8fd9-358d45d609f8"
      },
      "outputs": [
        {
          "output_type": "display_data",
          "data": {
            "text/plain": [
              "<Figure size 640x480 with 1 Axes>"
            ],
            "image/png": "[encoded data removed]"
          },
          "metadata": {}
        },
        {
          "output_type": "display_data",
          "data": {
            "text/plain": [
              "<Figure size 640x480 with 1 Axes>"
            ],
            "image/png": "[encoded data removed]"
          },
          "metadata": {}
        }
      ],
      "source": [
        "acc = history.history['accuracy']\n",
        "val_acc = history.history['val_accuracy']\n",
        "loss = history.history['loss']\n",
        "val_loss = history.history['val_loss']\n",
        "epochs = range(len(acc))\n",
        "\n",
        "plt.plot(epochs, acc, 'bo', label='Training acc')\n",
        "plt.plot(epochs, val_acc, 'b', label='Validation acc')\n",
        "plt.title('Training and validation accuracy')\n",
        "plt.legend()\n",
        "\n",
        "plt.figure()\n",
        "\n",
        "plt.plot(epochs, loss, 'bo', label='Training loss')\n",
        "plt.plot(epochs, val_loss, 'b', label='Validation loss')\n",
        "plt.title('Training and validation loss')\n",
        "plt.legend()\n",
        "\n",
        "plt.show()"
      ]
    },
    {
      "cell_type": "markdown",
      "id": "a2b9847b",
      "metadata": {
        "papermill": {
          "duration": 0.022371,
          "end_time": "2023-11-18T01:26:49.026877",
          "exception": false,
          "start_time": "2023-11-18T01:26:49.004506",
          "status": "completed"
        },
        "tags": [],
        "id": "a2b9847b"
      },
      "source": [
        "**#this looks better when i modify the layers**"
      ]
    },
    {
      "cell_type": "markdown",
      "id": "4bc3b3fd",
      "metadata": {
        "papermill": {
          "duration": 0.022095,
          "end_time": "2023-11-18T01:26:49.071434",
          "exception": false,
          "start_time": "2023-11-18T01:26:49.049339",
          "status": "completed"
        },
        "tags": [],
        "id": "4bc3b3fd"
      },
      "source": [
        "# #Try3 : technique to avoid overfitting\n",
        "1.            **Data augmentation**"
      ]
    },
    {
      "cell_type": "code",
      "execution_count": 30,
      "id": "2fca8cd6",
      "metadata": {
        "execution": {
          "iopub.execute_input": "2023-11-18T01:26:49.117736Z",
          "iopub.status.busy": "2023-11-18T01:26:49.117408Z",
          "iopub.status.idle": "2023-11-18T01:26:49.193842Z",
          "shell.execute_reply": "2023-11-18T01:26:49.193027Z"
        },
        "papermill": {
          "duration": 0.102427,
          "end_time": "2023-11-18T01:26:49.196271",
          "exception": false,
          "start_time": "2023-11-18T01:26:49.093844",
          "status": "completed"
        },
        "tags": [],
        "id": "2fca8cd6"
      },
      "outputs": [],
      "source": [
        "model = models.Sequential()\n",
        "model.add(layers.Conv2D(32, (5, 5), activation='relu', input_shape=(28, 28,1)))\n",
        "model.add(layers.MaxPooling2D((2, 2)))\n",
        "model.add(layers.Dropout(0.25))\n",
        "model.add(layers.Conv2D(64, (5, 5), activation='relu'))\n",
        "model.add(layers.MaxPooling2D((2, 2)))\n",
        "model.add(layers.Flatten())\n",
        "model.add(layers.Dense(1024, activation='relu'))\n",
        "model.add(layers.Dropout(0.25))\n",
        "model.add(layers.Dense(24, activation='softmax'))"
      ]
    },
    {
      "cell_type": "code",
      "execution_count": 31,
      "id": "83c686b1",
      "metadata": {
        "execution": {
          "iopub.execute_input": "2023-11-18T01:26:49.250976Z",
          "iopub.status.busy": "2023-11-18T01:26:49.250375Z",
          "iopub.status.idle": "2023-11-18T01:26:49.283143Z",
          "shell.execute_reply": "2023-11-18T01:26:49.282169Z"
        },
        "papermill": {
          "duration": 0.068757,
          "end_time": "2023-11-18T01:26:49.291687",
          "exception": false,
          "start_time": "2023-11-18T01:26:49.222930",
          "status": "completed"
        },
        "tags": [],
        "colab": {
          "base_uri": "https://localhost:8080/"
        },
        "id": "83c686b1",
        "outputId": "5e5d038b-ffe0-4fe2-f751-4a3c367ec588"
      },
      "outputs": [
        {
          "output_type": "stream",
          "name": "stdout",
          "text": [
            "Model: \"sequential_2\"\n",
            "_________________________________________________________________\n",
            " Layer (type)                Output Shape              Param #   \n",
            "=================================================================\n",
            " conv2d_5 (Conv2D)           (None, 24, 24, 32)        832       \n",
            "                                                                 \n",
            " max_pooling2d_5 (MaxPoolin  (None, 12, 12, 32)        0         \n",
            " g2D)                                                            \n",
            "                                                                 \n",
            " dropout_3 (Dropout)         (None, 12, 12, 32)        0         \n",
            "                                                                 \n",
            " conv2d_6 (Conv2D)           (None, 8, 8, 64)          51264     \n",
            "                                                                 \n",
            " max_pooling2d_6 (MaxPoolin  (None, 4, 4, 64)          0         \n",
            " g2D)                                                            \n",
            "                                                                 \n",
            " flatten_2 (Flatten)         (None, 1024)              0         \n",
            "                                                                 \n",
            " dense_5 (Dense)             (None, 1024)              1049600   \n",
            "                                                                 \n",
            " dropout_4 (Dropout)         (None, 1024)              0         \n",
            "                                                                 \n",
            " dense_6 (Dense)             (None, 24)                24600     \n",
            "                                                                 \n",
            "=================================================================\n",
            "Total params: 1126296 (4.30 MB)\n",
            "Trainable params: 1126296 (4.30 MB)\n",
            "Non-trainable params: 0 (0.00 Byte)\n",
            "_________________________________________________________________\n"
          ]
        }
      ],
      "source": [
        "model.summary()"
      ]
    },
    {
      "cell_type": "code",
      "execution_count": 32,
      "id": "6c6373ad",
      "metadata": {
        "execution": {
          "iopub.execute_input": "2023-11-18T01:26:49.346981Z",
          "iopub.status.busy": "2023-11-18T01:26:49.346686Z",
          "iopub.status.idle": "2023-11-18T01:29:35.532835Z",
          "shell.execute_reply": "2023-11-18T01:29:35.531694Z"
        },
        "papermill": {
          "duration": 166.238353,
          "end_time": "2023-11-18T01:29:35.558171",
          "exception": false,
          "start_time": "2023-11-18T01:26:49.319818",
          "status": "completed"
        },
        "tags": [],
        "colab": {
          "base_uri": "https://localhost:8080/"
        },
        "id": "6c6373ad",
        "outputId": "831cad4c-cb03-476c-943e-a7b85bb20a30"
      },
      "outputs": [
        {
          "output_type": "stream",
          "name": "stdout",
          "text": [
            "Epoch 1/20\n",
            "732/732 - 46s - loss: 2.8036 - accuracy: 0.1372 - val_loss: 1.8721 - val_accuracy: 0.4103 - 46s/epoch - 62ms/step\n",
            "Epoch 2/20\n",
            "732/732 - 40s - loss: 2.1047 - accuracy: 0.3217 - val_loss: 1.3316 - val_accuracy: 0.5680 - 40s/epoch - 55ms/step\n",
            "Epoch 3/20\n",
            "732/732 - 40s - loss: 1.7446 - accuracy: 0.4299 - val_loss: 1.1532 - val_accuracy: 0.6070 - 40s/epoch - 55ms/step\n",
            "Epoch 4/20\n",
            "732/732 - 43s - loss: 1.5166 - accuracy: 0.4982 - val_loss: 0.7542 - val_accuracy: 0.7815 - 43s/epoch - 59ms/step\n",
            "Epoch 5/20\n",
            "732/732 - 42s - loss: 1.3474 - accuracy: 0.5535 - val_loss: 0.5889 - val_accuracy: 0.8188 - 42s/epoch - 57ms/step\n",
            "Epoch 6/20\n",
            "732/732 - 42s - loss: 1.2086 - accuracy: 0.5957 - val_loss: 0.5112 - val_accuracy: 0.8436 - 42s/epoch - 58ms/step\n",
            "Epoch 7/20\n",
            "732/732 - 40s - loss: 1.1102 - accuracy: 0.6329 - val_loss: 0.4152 - val_accuracy: 0.8783 - 40s/epoch - 55ms/step\n",
            "Epoch 8/20\n",
            "732/732 - 40s - loss: 1.0411 - accuracy: 0.6510 - val_loss: 0.3536 - val_accuracy: 0.8993 - 40s/epoch - 55ms/step\n",
            "Epoch 9/20\n",
            "732/732 - 41s - loss: 0.9658 - accuracy: 0.6778 - val_loss: 0.3682 - val_accuracy: 0.8778 - 41s/epoch - 57ms/step\n",
            "Epoch 10/20\n",
            "732/732 - 41s - loss: 0.9159 - accuracy: 0.6964 - val_loss: 0.2559 - val_accuracy: 0.9315 - 41s/epoch - 56ms/step\n",
            "Epoch 11/20\n",
            "732/732 - 43s - loss: 0.8727 - accuracy: 0.7076 - val_loss: 0.2664 - val_accuracy: 0.9182 - 43s/epoch - 59ms/step\n",
            "Epoch 12/20\n",
            "732/732 - 41s - loss: 0.8291 - accuracy: 0.7202 - val_loss: 0.2135 - val_accuracy: 0.9430 - 41s/epoch - 56ms/step\n",
            "Epoch 13/20\n",
            "732/732 - 41s - loss: 0.7801 - accuracy: 0.7382 - val_loss: 0.2058 - val_accuracy: 0.9394 - 41s/epoch - 57ms/step\n",
            "Epoch 14/20\n",
            "732/732 - 44s - loss: 0.7809 - accuracy: 0.7368 - val_loss: 0.1845 - val_accuracy: 0.9486 - 44s/epoch - 60ms/step\n",
            "Epoch 15/20\n",
            "732/732 - 39s - loss: 0.7295 - accuracy: 0.7558 - val_loss: 0.1910 - val_accuracy: 0.9485 - 39s/epoch - 54ms/step\n",
            "Epoch 16/20\n",
            "732/732 - 40s - loss: 0.7154 - accuracy: 0.7601 - val_loss: 0.1870 - val_accuracy: 0.9403 - 40s/epoch - 55ms/step\n",
            "Epoch 17/20\n",
            "732/732 - 41s - loss: 0.6980 - accuracy: 0.7673 - val_loss: 0.1278 - val_accuracy: 0.9661 - 41s/epoch - 56ms/step\n",
            "Epoch 18/20\n",
            "732/732 - 39s - loss: 0.6644 - accuracy: 0.7749 - val_loss: 0.1803 - val_accuracy: 0.9406 - 39s/epoch - 54ms/step\n",
            "Epoch 19/20\n",
            "732/732 - 45s - loss: 0.6543 - accuracy: 0.7784 - val_loss: 0.1059 - val_accuracy: 0.9765 - 45s/epoch - 61ms/step\n",
            "Epoch 20/20\n",
            "732/732 - 42s - loss: 0.6429 - accuracy: 0.7865 - val_loss: 0.1249 - val_accuracy: 0.9647 - 42s/epoch - 58ms/step\n"
          ]
        }
      ],
      "source": [
        "from tensorflow.keras.preprocessing.image import ImageDataGenerator\n",
        "from tensorflow.keras.callbacks import EarlyStopping\n",
        "\n",
        "datagen = ImageDataGenerator(\n",
        "    rotation_range=20,\n",
        "    width_shift_range=0.2,\n",
        "    height_shift_range=0.2,\n",
        "    shear_range=0.2,\n",
        "    zoom_range=0.2,\n",
        "    horizontal_flip=True,\n",
        "    vertical_flip=True,\n",
        "    fill_mode='nearest'\n",
        ")\n",
        "\n",
        "batch_size = 30\n",
        "augmented_data_generator = datagen.flow(X_train, y_train, batch_size=batch_size)\n",
        "\n",
        "model.compile(optimizer='Adam',\n",
        "              loss='categorical_crossentropy',\n",
        "              metrics=['accuracy'])\n",
        "\n",
        "# Apply the EarlyStopping callback to avoid overfitting\n",
        "early_stopping = EarlyStopping(monitor='val_loss', patience=3)\n",
        "\n",
        "# Train your model using augmented data\n",
        "history = model.fit(augmented_data_generator,\n",
        "                    steps_per_epoch=X_train.shape[0] // batch_size,\n",
        "                    epochs=20,\n",
        "                    validation_data=(X_val, y_val),  # Corrected here\n",
        "                    callbacks=[early_stopping],\n",
        "                    verbose=2)\n"
      ]
    },
    {
      "cell_type": "code",
      "execution_count": 33,
      "id": "6c089a0f",
      "metadata": {
        "execution": {
          "iopub.execute_input": "2023-11-18T01:29:35.614298Z",
          "iopub.status.busy": "2023-11-18T01:29:35.613989Z",
          "iopub.status.idle": "2023-11-18T01:29:35.705936Z",
          "shell.execute_reply": "2023-11-18T01:29:35.704966Z"
        },
        "papermill": {
          "duration": 0.12253,
          "end_time": "2023-11-18T01:29:35.708158",
          "exception": false,
          "start_time": "2023-11-18T01:29:35.585628",
          "status": "completed"
        },
        "tags": [],
        "colab": {
          "base_uri": "https://localhost:8080/"
        },
        "id": "6c089a0f",
        "outputId": "172f09d5-bab2-4765-9f94-acd732a6599c"
      },
      "outputs": [
        {
          "output_type": "execute_result",
          "data": {
            "text/plain": [
              "['model_try4.pkl']"
            ]
          },
          "metadata": {},
          "execution_count": 33
        }
      ],
      "source": [
        "#saving the mdoel\n",
        "joblib.dump(model, 'model_try4.pkl')"
      ]
    },
    {
      "cell_type": "markdown",
      "id": "75487940",
      "metadata": {
        "papermill": {
          "duration": 0.027351,
          "end_time": "2023-11-18T01:29:35.763665",
          "exception": false,
          "start_time": "2023-11-18T01:29:35.736314",
          "status": "completed"
        },
        "tags": [],
        "id": "75487940"
      },
      "source": [
        "# Evaluation on Test Data Acc 95%"
      ]
    },
    {
      "cell_type": "code",
      "execution_count": 35,
      "id": "66ef41bc",
      "metadata": {
        "execution": {
          "iopub.execute_input": "2023-11-18T01:29:35.819982Z",
          "iopub.status.busy": "2023-11-18T01:29:35.819663Z",
          "iopub.status.idle": "2023-11-18T01:29:36.801131Z",
          "shell.execute_reply": "2023-11-18T01:29:36.800177Z"
        },
        "papermill": {
          "duration": 1.012236,
          "end_time": "2023-11-18T01:29:36.803229",
          "exception": false,
          "start_time": "2023-11-18T01:29:35.790993",
          "status": "completed"
        },
        "tags": [],
        "colab": {
          "base_uri": "https://localhost:8080/"
        },
        "id": "66ef41bc",
        "outputId": "259d2b77-f75c-4759-aa53-2d962d1eb039"
      },
      "outputs": [
        {
          "output_type": "stream",
          "name": "stdout",
          "text": [
            "50/50 [==============================] - 2s 36ms/step - loss: 0.1968 - accuracy: 0.9373\n"
          ]
        }
      ],
      "source": [
        "test=pd.read_csv('/content/sign_mnist_test/sign_mnist_test.csv')\n",
        "\n",
        "y_test=test[\"label\"].apply(adjust_class_labels)\n",
        "\n",
        "\n",
        "test=test.drop('label',axis=1)\n",
        "test=test.values.reshape((-1,28, 28,1))\n",
        "\n",
        "test=test/255\n",
        "y_test=to_categorical(y_test)\n",
        "\n",
        "\n",
        "\n",
        "acc = model.evaluate(test,y_test, steps=50)"
      ]
    },
    {
      "cell_type": "markdown",
      "id": "56929632",
      "metadata": {
        "papermill": {
          "duration": 0.028269,
          "end_time": "2023-11-18T01:29:36.860166",
          "exception": false,
          "start_time": "2023-11-18T01:29:36.831897",
          "status": "completed"
        },
        "tags": [],
        "id": "56929632"
      },
      "source": [
        "# plotting loss/accur on valid/train data"
      ]
    },
    {
      "cell_type": "markdown",
      "id": "c28400b6",
      "metadata": {
        "papermill": {
          "duration": 0.027831,
          "end_time": "2023-11-18T01:29:36.916052",
          "exception": false,
          "start_time": "2023-11-18T01:29:36.888221",
          "status": "completed"
        },
        "tags": [],
        "id": "c28400b6"
      },
      "source": [
        "**we can see that we manage the problem of overfitting**"
      ]
    },
    {
      "cell_type": "code",
      "execution_count": 36,
      "id": "ebfa6905",
      "metadata": {
        "execution": {
          "iopub.execute_input": "2023-11-18T01:29:36.973742Z",
          "iopub.status.busy": "2023-11-18T01:29:36.973343Z",
          "iopub.status.idle": "2023-11-18T01:29:37.571017Z",
          "shell.execute_reply": "2023-11-18T01:29:37.569896Z"
        },
        "papermill": {
          "duration": 0.629187,
          "end_time": "2023-11-18T01:29:37.573273",
          "exception": false,
          "start_time": "2023-11-18T01:29:36.944086",
          "status": "completed"
        },
        "tags": [],
        "colab": {
          "base_uri": "https://localhost:8080/",
          "height": 887
        },
        "id": "ebfa6905",
        "outputId": "c5bd1414-fd51-4322-9290-8ac26091dcb5"
      },
      "outputs": [
        {
          "output_type": "display_data",
          "data": {
            "text/plain": [
              "<Figure size 640x480 with 1 Axes>"
            ],
            "image/png": "[encoded data removed]"
          },
          "metadata": {}
        },
        {
          "output_type": "display_data",
          "data": {
            "text/plain": [
              "<Figure size 640x480 with 1 Axes>"
            ],
            "image/png": "[encoded data removed]"
          },
          "metadata": {}
        }
      ],
      "source": [
        "acc = history.history['accuracy']\n",
        "val_acc = history.history['val_accuracy']\n",
        "loss = history.history['loss']\n",
        "val_loss = history.history['val_loss']\n",
        "epochs = range(len(acc))\n",
        "\n",
        "plt.plot(epochs, acc, 'bo', label='Training acc')\n",
        "plt.plot(epochs, val_acc, 'b', label='Validation acc')\n",
        "plt.title('Training and validation accuracy')\n",
        "plt.legend()\n",
        "\n",
        "plt.figure()\n",
        "\n",
        "plt.plot(epochs, loss, 'bo', label='Training loss')\n",
        "plt.plot(epochs, val_loss, 'b', label='Validation loss')\n",
        "plt.title('Training and validation loss')\n",
        "plt.legend()\n",
        "\n",
        "plt.show()"
      ]
    },
    {
      "cell_type": "code",
      "source": [
        "from IPython.display import display, Javascript, Image\n",
        "from google.colab.output import eval_js\n",
        "from base64 import b64decode\n",
        "\n",
        "def take_photo(filename='photo.jpg', quality=0.8):\n",
        "  js = Javascript('''\n",
        "    async function takePhoto(quality) {\n",
        "      const div = document.createElement('div');\n",
        "      const capture = document.createElement('button');\n",
        "      capture.textContent = 'Capture';\n",
        "      div.appendChild(capture);\n",
        "\n",
        "      const video = document.createElement('video');\n",
        "      video.style.display = 'block';\n",
        "      const stream = await navigator.mediaDevices.getUserMedia({video: true});\n",
        "\n",
        "      document.body.appendChild(div);\n",
        "      div.appendChild(video);\n",
        "      video.srcObject = stream;\n",
        "      await video.play();\n",
        "\n",
        "      // Resize the output to fit the video element.\n",
        "      google.colab.output.setIframeHeight(document.documentElement.scrollHeight, true);\n",
        "\n",
        "      // Wait for Capture to be clicked.\n",
        "      await new Promise((resolve) => capture.onclick = resolve);\n",
        "\n",
        "      const canvas = document.createElement('canvas');\n",
        "      canvas.width = video.videoWidth;\n",
        "      canvas.height = video.videoHeight;\n",
        "      canvas.getContext('2d').drawImage(video, 0, 0);\n",
        "      stream.getVideoTracks()[0].stop();\n",
        "      div.remove();\n",
        "      return canvas.toDataURL('image/jpeg', quality);\n",
        "    }\n",
        "    ''')\n",
        "  display(js)\n",
        "  data = eval_js('takePhoto({})'.format(quality))\n",
        "  binary = b64decode(data.split(',')[1])\n",
        "  with open(filename, 'wb') as f:\n",
        "    f.write(binary)\n",
        "  return filename\n",
        "\n",
        "try:\n",
        "  filename = take_photo()\n",
        "  print('Saved to {}'.format(filename))\n",
        "\n",
        "  # Show the image which was just taken.\n",
        "  display(Image(filename))\n",
        "except Exception as err:\n",
        "  # Errors will be thrown if the user does not have a webcam or if they do not\n",
        "  # grant the page permission to access it.\n",
        "  print(str(err))"
      ],
      "metadata": {
        "colab": {
          "base_uri": "https://localhost:8080/",
          "height": 514
        },
        "id": "uYu7D8A28UJA",
        "outputId": "204e25e0-d878-4eaa-8d6b-5ccd720a86fa"
      },
      "id": "uYu7D8A28UJA",
      "execution_count": 40,
      "outputs": [
        {
          "output_type": "display_data",
          "data": {
            "text/plain": [
              "<IPython.core.display.Javascript object>"
            ],
            "application/javascript": [
              "\n",
              "    async function takePhoto(quality) {\n",
              "      const div = document.createElement('div');\n",
              "      const capture = document.createElement('button');\n",
              "      capture.textContent = 'Capture';\n",
              "      div.appendChild(capture);\n",
              "\n",
              "      const video = document.createElement('video');\n",
              "      video.style.display = 'block';\n",
              "      const stream = await navigator.mediaDevices.getUserMedia({video: true});\n",
              "\n",
              "      document.body.appendChild(div);\n",
              "      div.appendChild(video);\n",
              "      video.srcObject = stream;\n",
              "      await video.play();\n",
              "\n",
              "      // Resize the output to fit the video element.\n",
              "      google.colab.output.setIframeHeight(document.documentElement.scrollHeight, true);\n",
              "\n",
              "      // Wait for Capture to be clicked.\n",
              "      await new Promise((resolve) => capture.onclick = resolve);\n",
              "\n",
              "      const canvas = document.createElement('canvas');\n",
              "      canvas.width = video.videoWidth;\n",
              "      canvas.height = video.videoHeight;\n",
              "      canvas.getContext('2d').drawImage(video, 0, 0);\n",
              "      stream.getVideoTracks()[0].stop();\n",
              "      div.remove();\n",
              "      return canvas.toDataURL('image/jpeg', quality);\n",
              "    }\n",
              "    "
            ]
          },
          "metadata": {}
        },
        {
          "output_type": "stream",
          "name": "stdout",
          "text": [
            "Saved to photo.jpg\n"
          ]
        },
        {
          "output_type": "display_data",
          "data": {
            "image/jpeg": "[encoded data removed]",
            "text/plain": [
              "<IPython.core.display.Image object>"
            ]
          },
          "metadata": {}
        }
      ]
    },
    {
      "cell_type": "code",
      "source": [
        "from keras.models import load_model\n",
        "model = load_model('/content/try_model.h5')\n",
        "\n",
        "model.compile(loss='categorical_crossentropy',\n",
        "              optimizer=Adam(learning_rate=1e-4),\n",
        "              metrics=['accuracy'])"
      ],
      "metadata": {
        "id": "mRdS4s_e8fxG"
      },
      "id": "mRdS4s_e8fxG",
      "execution_count": 39,
      "outputs": []
    },
    {
      "cell_type": "code",
      "source": [
        "import cv2\n",
        "\n",
        "img = Image.open(r\"photo.jpg\").convert('L')\n",
        "\n",
        "# image = cv2.imread('photo.jpg')\n",
        "# image=image.resize((28,28))\n",
        "# fig = plt.subplot(4,4,i+1)\n",
        "# plt.imshow(image, cmap='gray')\n",
        "# #plt.imshow(im2)\n",
        "\n",
        "# image = cv2.cvtColor(image, cv2.COLOR_RGB2GRAY)\n",
        "# img = plt.imshow(image, cmap='gray')\n",
        "\n",
        "filter = ImageEnhance.Color(img)\n",
        "filter.enhance(0)\n",
        "print(img)\n",
        "\n"
      ],
      "metadata": {
        "colab": {
          "base_uri": "https://localhost:8080/"
        },
        "id": "uGVwYPS9E3Vy",
        "outputId": "85864740-68e9-4d8a-e3af-35acf0b43485"
      },
      "id": "uGVwYPS9E3Vy",
      "execution_count": 94,
      "outputs": [
        {
          "output_type": "stream",
          "name": "stdout",
          "text": [
            "<PIL.Image.Image image mode=L size=640x480 at 0x790DB5C7D2A0>\n"
          ]
        }
      ]
    },
    {
      "cell_type": "code",
      "source": [
        "img = Image.open(\"photo.jpg\")\n",
        "img_data = img.getdata()\n",
        "\n",
        "lst=[]\n",
        "for i in img_data:\n",
        "    lst.append(i[0]*0.2125+i[1]*0.7174+i[2]*0.0721)\n",
        "\n",
        "new_img = Image.new(\"L\", img.size)\n",
        "new_img.putdata(lst)\n",
        "print(new_img)\n",
        "\n",
        "plt.show(new_img)"
      ],
      "metadata": {
        "colab": {
          "base_uri": "https://localhost:8080/"
        },
        "id": "GYGtEFPMNNax",
        "outputId": "3ae0daa8-dd0a-4967-ad03-2e6d059a058b"
      },
      "id": "GYGtEFPMNNax",
      "execution_count": 105,
      "outputs": [
        {
          "output_type": "stream",
          "name": "stdout",
          "text": [
            "<PIL.Image.Image image mode=L size=640x480 at 0x790D7F230340>\n"
          ]
        }
      ]
    },
    {
      "cell_type": "code",
      "source": [
        "import cv2\n",
        "import numpy as np\n",
        "from PIL import Image\n",
        "import tensorflow as tf\n",
        "\n",
        "def preprocess_image(img, best_model):\n",
        "    labels = ['1','10','2','3','4','5','6','7','8','9','A','B','Blank','C','D','E','F','G','H','I','J','K','L','M','N','O','P','Q','R','S','T','U','V','W','X','Y','Z','del','space']\n",
        "\n",
        "    # Resize the image to (28, 28)\n",
        "    img = img.resize((28, 28))\n",
        "\n",
        "    # Convert the image to grayscale\n",
        "    img_array = np.array(img.convert('L'))\n",
        "\n",
        "    # Expand dimensions to match model input shape\n",
        "    img_batch = np.expand_dims(img_array, axis=0)\n",
        "\n",
        "    # Preprocess the image for the model\n",
        "    processed_image = tf.keras.applications.resnet50.preprocess_input(img_batch)\n",
        "\n",
        "    # Make predictions using the model\n",
        "    predictions = best_model.predict(processed_image)\n",
        "\n",
        "    # Get the predicted label\n",
        "    max_index = np.argmax(predictions)\n",
        "    predicted_label = labels[max_index]\n",
        "\n",
        "    return predicted_label\n",
        "\n",
        "# Load the image using PIL\n",
        "img_path = 'photo.jpg'\n",
        "img = Image.open(img_path)\n",
        "\n",
        "# Call the preprocess_image function\n",
        "letter = preprocess_image(img, model)\n",
        "print(type(letter))\n",
        "print(f'The image is predicted as {letter}')\n"
      ],
      "metadata": {
        "colab": {
          "base_uri": "https://localhost:8080/"
        },
        "id": "gRkMSvjyTCev",
        "outputId": "b471cf0f-9570-4ed4-c393-4d157891d668"
      },
      "id": "gRkMSvjyTCev",
      "execution_count": 123,
      "outputs": [
        {
          "output_type": "stream",
          "name": "stdout",
          "text": [
            "1/1 [==============================] - 0s 51ms/step\n",
            "<class 'str'>\n",
            "The image is predicted as 7\n"
          ]
        }
      ]
    }
  ],
  "metadata": {
    "kaggle": {
      "accelerator": "none",
      "dataSources": [
        {
          "datasetId": 3258,
          "sourceId": 5337,
          "sourceType": "datasetVersion"
        }
      ],
      "dockerImageVersionId": 30558,
      "isGpuEnabled": false,
      "isInternetEnabled": true,
      "language": "python",
      "sourceType": "notebook"
    },
    "kernelspec": {
      "display_name": "Python 3",
      "language": "python",
      "name": "python3"
    },
    "language_info": {
      "codemirror_mode": {
        "name": "ipython",
        "version": 3
      },
      "file_extension": ".py",
      "mimetype": "text/x-python",
      "name": "python",
      "nbconvert_exporter": "python",
      "pygments_lexer": "ipython3",
      "version": "3.10.12"
    },
    "papermill": {
      "default_parameters": {},
      "duration": 244.680447,
      "end_time": "2023-11-18T01:29:41.010375",
      "environment_variables": {},
      "exception": null,
      "input_path": "__notebook__.ipynb",
      "output_path": "__notebook__.ipynb",
      "parameters": {},
      "start_time": "2023-11-18T01:25:36.329928",
      "version": "2.4.0"
    },
    "colab": {
      "provenance": []
    }
  },
  "nbformat": 4,
  "nbformat_minor": 5
}